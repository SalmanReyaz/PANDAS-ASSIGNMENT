{
 "cells": [
  {
   "cell_type": "markdown",
   "id": "0e81e892",
   "metadata": {},
   "source": [
    "# `Q1.Create a Pandas Series that contains the following data: 4, 8, 15, 16, 23, and 42. Then, print the series.`"
   ]
  },
  {
   "cell_type": "code",
   "execution_count": 1,
   "id": "705d0a2f",
   "metadata": {},
   "outputs": [],
   "source": [
    "import pandas as pd"
   ]
  },
  {
   "cell_type": "code",
   "execution_count": 2,
   "id": "2e4dda0e",
   "metadata": {},
   "outputs": [],
   "source": [
    "data = 4,8,1,15,16,23,42"
   ]
  },
  {
   "cell_type": "code",
   "execution_count": 4,
   "id": "e8d43765",
   "metadata": {},
   "outputs": [
    {
     "data": {
      "text/plain": [
       "0     4\n",
       "1     8\n",
       "2     1\n",
       "3    15\n",
       "4    16\n",
       "5    23\n",
       "6    42\n",
       "dtype: int64"
      ]
     },
     "execution_count": 4,
     "metadata": {},
     "output_type": "execute_result"
    }
   ],
   "source": [
    "pd.Series(data)"
   ]
  },
  {
   "cell_type": "code",
   "execution_count": null,
   "id": "e85fbb88",
   "metadata": {},
   "outputs": [],
   "source": []
  },
  {
   "cell_type": "markdown",
   "id": "bba4170e",
   "metadata": {},
   "source": [
    "# `Q2. Create a variable of list type containing 10 elements in it, and apply pandas.Series function on the variable print it.`"
   ]
  },
  {
   "cell_type": "code",
   "execution_count": 6,
   "id": "b6de7a31",
   "metadata": {},
   "outputs": [
    {
     "data": {
      "text/plain": [
       "0     1\n",
       "1     2\n",
       "2     3\n",
       "3     4\n",
       "4     5\n",
       "5     6\n",
       "6     7\n",
       "7     8\n",
       "8     9\n",
       "9    10\n",
       "dtype: int64"
      ]
     },
     "execution_count": 6,
     "metadata": {},
     "output_type": "execute_result"
    }
   ],
   "source": [
    "data1 = [1,2,3,4,5,6,7,8,9,10]\n",
    "\n",
    "\n",
    "pd.Series(data1)"
   ]
  },
  {
   "cell_type": "code",
   "execution_count": null,
   "id": "f4b9b149",
   "metadata": {},
   "outputs": [],
   "source": []
  },
  {
   "attachments": {
    "ass.PNG": {
     "image/png": "[encoded data removed]"
    }
   },
   "cell_type": "markdown",
   "id": "979e2fe9",
   "metadata": {},
   "source": [
    "![ass.PNG](attachment:ass.PNG)"
   ]
  },
  {
   "cell_type": "code",
   "execution_count": 19,
   "id": "c7b81f65",
   "metadata": {},
   "outputs": [],
   "source": [
    "student_data= {\"Name\":('Alice','Bob','Claire'),\n",
    "              \n",
    "              \"Age\":(25,30,27),\n",
    "              \n",
    "              \"Gender\":('Female','Male','Female')}"
   ]
  },
  {
   "cell_type": "code",
   "execution_count": 20,
   "id": "df5e3231",
   "metadata": {},
   "outputs": [
    {
     "data": {
      "text/plain": [
       "{'Name': ('Alice', 'Bob', 'Claire'),\n",
       " 'Age': (25, 30, 27),\n",
       " 'Gender': ('Female', 'Male', 'Female')}"
      ]
     },
     "execution_count": 20,
     "metadata": {},
     "output_type": "execute_result"
    }
   ],
   "source": [
    "student_data"
   ]
  },
  {
   "cell_type": "code",
   "execution_count": 21,
   "id": "6d4d39ba",
   "metadata": {},
   "outputs": [
    {
     "data": {
      "text/html": [
       "<div>\n",
       "<style scoped>\n",
       "    .dataframe tbody tr th:only-of-type {\n",
       "        vertical-align: middle;\n",
       "    }\n",
       "\n",
       "    .dataframe tbody tr th {\n",
       "        vertical-align: top;\n",
       "    }\n",
       "\n",
       "    .dataframe thead th {\n",
       "        text-align: right;\n",
       "    }\n",
       "</style>\n",
       "<table border=\"1\" class=\"dataframe\">\n",
       "  <thead>\n",
       "    <tr style=\"text-align: right;\">\n",
       "      <th></th>\n",
       "      <th>Name</th>\n",
       "      <th>Age</th>\n",
       "      <th>Gender</th>\n",
       "    </tr>\n",
       "  </thead>\n",
       "  <tbody>\n",
       "    <tr>\n",
       "      <th>0</th>\n",
       "      <td>Alice</td>\n",
       "      <td>25</td>\n",
       "      <td>Female</td>\n",
       "    </tr>\n",
       "    <tr>\n",
       "      <th>1</th>\n",
       "      <td>Bob</td>\n",
       "      <td>30</td>\n",
       "      <td>Male</td>\n",
       "    </tr>\n",
       "    <tr>\n",
       "      <th>2</th>\n",
       "      <td>Claire</td>\n",
       "      <td>27</td>\n",
       "      <td>Female</td>\n",
       "    </tr>\n",
       "  </tbody>\n",
       "</table>\n",
       "</div>"
      ],
      "text/plain": [
       "     Name  Age  Gender\n",
       "0   Alice   25  Female\n",
       "1     Bob   30    Male\n",
       "2  Claire   27  Female"
      ]
     },
     "execution_count": 21,
     "metadata": {},
     "output_type": "execute_result"
    }
   ],
   "source": [
    "pd.DataFrame(student_data)"
   ]
  },
  {
   "cell_type": "code",
   "execution_count": null,
   "id": "32de02e5",
   "metadata": {},
   "outputs": [],
   "source": []
  },
  {
   "cell_type": "markdown",
   "id": "eced5922",
   "metadata": {},
   "source": [
    "# `Q4. What is ‘DataFrame’ in pandas and how is it different from pandas.series? Explain with an example.`"
   ]
  },
  {
   "cell_type": "markdown",
   "id": "d5cce0bd",
   "metadata": {},
   "source": [
    "`In Pandas, a DataFrame is a two-dimensional tabular data structure that represents a collection of data organized in rows and columns.It is similar to a spreadsheet or a SQL table, where each column can have a different data type`\n",
    "\n",
    "\n",
    "`Pandas Series is a one-dimensional array-like object that can hold data of any type. It's similar to a column in a spreadsheet or a single-dimensional array. Series are labeled, meaning each element in the Series has an associated label (index), which allows for easy data retrieval and alignment.`"
   ]
  },
  {
   "cell_type": "code",
   "execution_count": null,
   "id": "ad7445e8",
   "metadata": {},
   "outputs": [],
   "source": []
  },
  {
   "cell_type": "markdown",
   "id": "6da19a0f",
   "metadata": {},
   "source": [
    "# `Q5. What are some common functions you can use to manipulate data in a Pandas DataFrame? Can you give an example of when you might use one of these functions?`"
   ]
  },
  {
   "cell_type": "markdown",
   "id": "d80b8b85",
   "metadata": {},
   "source": [
    "`Pandas provides a wide range of functions to manipulate data in a DataFrame. These functions allow you to perform tasks such as filtering, sorting, aggregation, transformation, and more`\n",
    "\n",
    "\n",
    "__head() and tail()__\n",
    "\n",
    "`These functions allow you to view the first or last few rows of the DataFrame.\n",
    "Useful for quickly inspecting the structure and contents of the DataFrame.`\n",
    "\n",
    "\n",
    "\n",
    "__info():__\n",
    "\n",
    "`Provides information about the DataFrame, including data types, non-null counts, and memory usage.\n",
    "Useful for understanding the data types and null values in the DataFrame.`\n",
    "\n",
    "\n",
    "\n",
    "\n",
    "\n",
    "__describe():__\n",
    "\n",
    "`Generates summary statistics for numerical columns in the DataFrame, such as mean, median, min, max, etc.\n",
    "Useful for getting a quick overview of the distribution of numerical data.`__\n",
    "\n",
    "\n",
    "\n",
    "__drop() or dropna():__\n",
    "\n",
    "`drop() removes specified rows or columns from the DataFrame.\n",
    "dropna() removes rows or columns with missing values.\n",
    "Useful for cleaning and filtering out unwanted or missing data`\n",
    "\n",
    "\n",
    "\n",
    "\n",
    "\n",
    "\n",
    "\n",
    "# These are just a few examples of the many functions available in Pandas to manipulate and analyze data in a DataFrame"
   ]
  },
  {
   "cell_type": "code",
   "execution_count": null,
   "id": "db6ea53c",
   "metadata": {},
   "outputs": [],
   "source": []
  },
  {
   "cell_type": "markdown",
   "id": "b0f5b79f",
   "metadata": {},
   "source": [
    "# `Q6. Which of the following is mutable in nature Series, DataFrame, Panel?`"
   ]
  },
  {
   "cell_type": "markdown",
   "id": "8c0f2fe6",
   "metadata": {},
   "source": [
    "In Python, mutability refers to the ability to modify an object after it has been created. Mutable objects can have their values changed or elements added/removed without the need to create a new object.\n",
    "\n",
    "\n",
    "\n",
    "## `DataFrame: A Pandas DataFrame is mutable. You can add, remove, or modify columns, rows, and values within a DataFrame without creating a new DataFrame. This mutability is a key characteristic that allows for data manipulation and analysis.`\n",
    "\n",
    "\n"
   ]
  },
  {
   "cell_type": "code",
   "execution_count": null,
   "id": "c7d92ac3",
   "metadata": {},
   "outputs": [],
   "source": []
  },
  {
   "cell_type": "markdown",
   "id": "5f3f71a6",
   "metadata": {},
   "source": [
    "# `Q7. Create a DataFrame using multiple Series. Explain with an example.`"
   ]
  },
  {
   "cell_type": "code",
   "execution_count": 46,
   "id": "8067b5e0",
   "metadata": {
    "scrolled": true
   },
   "outputs": [
    {
     "name": "stdout",
     "output_type": "stream",
     "text": [
      "  Students  Ages\n",
      "0     Rosh    22\n",
      "1      Sam    23\n",
      "2    Washu    24\n",
      "3      NaN    25\n"
     ]
    }
   ],
   "source": [
    "students_name = pd.Series([\"Rosh\",\"Sam\",\"Washu\"])\n",
    "\n",
    "students_age= pd.Series([22,23,24,25])\n",
    "\n",
    "\n",
    "\n",
    "frame = {'Students':students_name,\n",
    "        'Ages':students_age}\n",
    "\n",
    "\n",
    "info = pd.DataFrame(frame)\n",
    "\n",
    "\n",
    "\n",
    "print(info)\n",
    "\n",
    "     "
   ]
  },
  {
   "cell_type": "code",
   "execution_count": 47,
   "id": "54fc1d55",
   "metadata": {},
   "outputs": [
    {
     "name": "stdout",
     "output_type": "stream",
     "text": [
      "  Students  Ages  Gender\n",
      "0     Rosh    22    Male\n",
      "1      Sam    23    Male\n",
      "2    Alexa    29  Female\n",
      "3     Nick    27    Male\n",
      "4    Washu    24    Male\n",
      "5   Selena    25  Female\n"
     ]
    }
   ],
   "source": [
    "students_name = pd.Series([\"Rosh\",\"Sam\",\"Alexa\",\"Nick\",\"Washu\",\"Selena\"])\n",
    "\n",
    "students_age= pd.Series([22,23,29,27,24,25])\n",
    "\n",
    "\n",
    "\n",
    "frame = {'Students':students_name,\n",
    "        'Ages':students_age}\n",
    "\n",
    "\n",
    "info = pd.DataFrame(frame)\n",
    "\n",
    "\n",
    "\n",
    "\n",
    "# Creating another list\n",
    "Gender = [\"Male\",\"Male\",\"Female\",\"Male\",\"Male\",\"Female\"]\n",
    "\n",
    "\n",
    "# Creating new column in the dataframe by\n",
    "# providing s Series created using list\n",
    "info['Gender'] = pd.Series(Gender)\n",
    "\n",
    "print(info)\n",
    "\n",
    "     "
   ]
  },
  {
   "cell_type": "code",
   "execution_count": null,
   "id": "67408810",
   "metadata": {},
   "outputs": [],
   "source": []
  }
 ],
 "metadata": {
  "kernelspec": {
   "display_name": "Python 3 (ipykernel)",
   "language": "python",
   "name": "python3"
  },
  "language_info": {
   "codemirror_mode": {
    "name": "ipython",
    "version": 3
   },
   "file_extension": ".py",
   "mimetype": "text/x-python",
   "name": "python",
   "nbconvert_exporter": "python",
   "pygments_lexer": "ipython3",
   "version": "3.9.12"
  }
 },
 "nbformat": 4,
 "nbformat_minor": 5
}
